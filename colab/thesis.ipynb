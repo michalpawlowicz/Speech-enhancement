{
 "cells": [
  {
   "cell_type": "code",
   "execution_count": 1,
   "metadata": {
    "colab": {},
    "colab_type": "code",
    "id": "VL_4GSo7lRWX"
   },
   "outputs": [],
   "source": [
    "import librosa\n",
    "import os\n",
    "import random\n",
    "import time\n",
    "import gc\n",
    "import pickle\n",
    "import numpy as np\n",
    "import tensorflow as tf\n",
    "from typing import List\n",
    "from numpy import save\n",
    "from sklearn.preprocessing import MinMaxScaler\n",
    "\n",
    "COLAB=True\n",
    "#WORKDIR=\"drive/My Drive/Colab Notebooks/data\"\n",
    "WORKDIR=\"./data\"\n",
    "INITIAL_EPOCH=0"
   ]
  },
  {
   "cell_type": "code",
   "execution_count": 0,
   "metadata": {
    "colab": {},
    "colab_type": "code",
    "id": "KgYKrYcRpDMS"
   },
   "outputs": [],
   "source": [
    "def make_colab_env():\n",
    "  os.mkdir(os.path.join(WORKDIR, \"clean\"))\n",
    "  os.mkdir(os.path.join(WORKDIR, \"noisy\"))\n",
    "  os.mkdir(os.path.join(WORKDIR, \"checkpoints\"))\n",
    "  os.mkdir(os.path.join(WORKDIR, \"logs\"))\n",
    "  noisy_samples_directory = os.mkdir(os.path.join(WORKDIR, \"noisy-samplified\"))\n",
    "  clean_samples_directory = os.mkdir(os.path.join(WORKDIR, \"clean-samplified\"))"
   ]
  },
  {
   "cell_type": "code",
   "execution_count": 0,
   "metadata": {
    "colab": {},
    "colab_type": "code",
    "id": "G976t5H_qzHn"
   },
   "outputs": [],
   "source": [
    "# update librosa in colab\n",
    "!pip install librosa==0.7.2"
   ]
  },
  {
   "cell_type": "code",
   "execution_count": 0,
   "metadata": {
    "colab": {},
    "colab_type": "code",
    "id": "aqUvFoFLloxR"
   },
   "outputs": [],
   "source": [
    "def read_noise(audio_files: List[str], sampling: int, frame_length: int, hop_length: float = 0.4) -> np.ndarray:\n",
    "    audio_stacks = []\n",
    "    total = len(audio_files)\n",
    "    for i, f in enumerate(audio_files):\n",
    "        y, _ = librosa.load(f, sr=sampling)\n",
    "        audio_stacks.append(librosa.util.frame(y, frame_length=frame_length, hop_length=int(frame_length * hop_length), axis=0))\n",
    "        print(\"Reading noise [{0} / {1}]\".format(i+1, total))\n",
    "    random.shuffle(audio_stacks)\n",
    "    return np.vstack(audio_stacks)\n",
    "\n",
    "# Blend speech with noise\n",
    "def create_audio_samples(noise_dir: str, speech_dir: str, noisy_dir: str, clean_dir: str,\n",
    "           frame_length: int, sampling: int, noise_frame_hop: float = 0.4) -> int:\n",
    "    \n",
    "    noise_files = list(os.scandir(noise_dir))\n",
    "    speech_files = list(os.scandir(speech_dir))\n",
    "\n",
    "    random.shuffle(noise_files)\n",
    "    random.shuffle(speech_files)\n",
    "    \n",
    "    noise_files = noise_files[:10]\n",
    "\n",
    "    print(\"Reading noise into memory\")\n",
    "    noise_frames = read_noise(noise_files, sampling,\n",
    "                              int(frame_length/2), noise_frame_hop)\n",
    "\n",
    "    samples_count = 0\n",
    "    total = len(speech_files)\n",
    "    for idx, sample_file in enumerate(speech_files):\n",
    "        y, _ = librosa.load(sample_file, sr=sampling)\n",
    "        if len(y) < frame_length:\n",
    "            print(\"Dropping {0} because is shorter than frame_length\".format(sample_file))\n",
    "            continue\n",
    "        y = librosa.util.frame(y, frame_length=frame_length, hop_length=frame_length, axis=0)\n",
    "        samples_count += y.shape[0]\n",
    "        filename = os.path.splitext(os.path.basename(sample_file))[0] + \".wav\"\n",
    "        librosa.output.write_wav(os.path.join(clean_dir, filename), y.reshape(1, -1)[0], sr=sampling)\n",
    "        for i in range(y.shape[0]):\n",
    "            y[i, :] += random.uniform(0.2, 0.5) * np.concatenate((random.choice(noise_frames),random.choice(noise_frames)))\n",
    "        librosa.output.write_wav(os.path.join(noisy_dir, filename), y.reshape(1, -1)[0], sr=sampling)\n",
    "        print(\"Blending noise with sample speech [{0} / {1}]\".format(idx, total))\n",
    "\n",
    "    print(\"Possible {0} samples\".format(samples_count))\n",
    "    return samples_count "
   ]
  },
  {
   "cell_type": "code",
   "execution_count": 2,
   "metadata": {
    "colab": {},
    "colab_type": "code",
    "id": "KRaXspeVnweH"
   },
   "outputs": [],
   "source": [
    "if not COLAB:\n",
    "  noise_directory = \"/home/michal/ESC-50/ESC-50-master/audio\"\n",
    "  speech_directory = \"/home/michal/OpenSLR/LibriSpeech/dev-clean/\"\n",
    "  noisy_directory = \"/home/michal/Documents/Speech-enhancement/data/noisy\"\n",
    "  clean_directory = \"/home/michal/Documents/Speech-enhancement/data/clean\"\n",
    "  noisy_samples_directory=\"/home/michal/Documents/Speech-enhancement/data/noisy-samplified\"\n",
    "  clean_samples_directory=\"/home/michal/Documents/Speech-enhancement/data/clean-samplified\"\n",
    "  scaler_path = \"/home/michal/Documents/Speech-enhancement/data/scaler.plk\"\n",
    "else:\n",
    "  noise_directory = \"drive/My Drive/Colab Notebooks/ESC-50-master/audio\"\n",
    "  speech_directory = \"drive/My Drive/Colab Notebooks/LibriSpeech/dev-clean/\"\n",
    "  noisy_directory = os.path.join(WORKDIR, \"noisy\")\n",
    "  clean_directory = os.path.join(WORKDIR, \"clean\")\n",
    "  noisy_samples_directory = os.path.join(WORKDIR, \"noisy-samplified\")\n",
    "  clean_samples_directory = os.path.join(WORKDIR, \"clean-samplified\")\n",
    "  scaler_path = os.path.join(WORKDIR, \"scaler.plk\")\n",
    "  checkpoints_path = os.path.join(WORKDIR, \"checkpoints\")\n",
    "  logs_dir = os.path.join(WORKDIR, \"logs\")\n",
    "\n",
    "npy_samples_count = 100000\n",
    "frame_length = 16384\n",
    "sampling = 16000"
   ]
  },
  {
   "cell_type": "code",
   "execution_count": 0,
   "metadata": {
    "colab": {},
    "colab_type": "code",
    "id": "5aCzzS9goyaY"
   },
   "outputs": [],
   "source": [
    "#create_audio_samples(noise_directory,\n",
    "#                    speech_directory,\n",
    "#                    noisy_directory,\n",
    "#                    clean_directory,\n",
    "#                    frame_length,\n",
    "#                    sampling)"
   ]
  },
  {
   "cell_type": "code",
   "execution_count": 0,
   "metadata": {
    "colab": {},
    "colab_type": "code",
    "id": "FVSH2S_fpsYh"
   },
   "outputs": [],
   "source": [
    "def samplify(audio_files: List[str], output_path: str, \n",
    "             frame_length: int, sampling: int, npy_samples_count: int):\n",
    "    npy_frames = []\n",
    "    npy_idx = 0\n",
    "    samples_in_npy_frames = 0\n",
    "    for audio_idx, audio_file in enumerate(audio_files):\n",
    "        y, _ = librosa.load(audio_file, sr=sampling)\n",
    "        frames = librosa.util.frame(\n",
    "            y, frame_length=frame_length, hop_length=int(frame_length * 0.3), axis=0)\n",
    "        samples_in_npy_frames += frames.shape[0]\n",
    "        npy_frames.append(frames)\n",
    "        if samples_in_npy_frames > npy_samples_count:\n",
    "            output = os.path.join(output_path, \"{}.npy\".format(npy_idx))\n",
    "            v = np.vstack(npy_frames)\n",
    "            print(\"\\nWriting {0} into {1}\".format(v.shape, output))\n",
    "            save(output, v)\n",
    "            npy_idx += 1\n",
    "            npy_frames = []\n",
    "            samples_in_npy_frames = 0\n",
    "        print(\"Samplifying [{0} / {1}]\".format(audio_idx+1, len(audio_files)))\n",
    "    if len(npy_frames) > 0:\n",
    "        output = os.path.join(output_path, \"{}.npy\".format(npy_idx))\n",
    "        v = np.vstack(npy_frames)\n",
    "        print(\"\\nWriting {0} into {1}\".format(v.shape, output))\n",
    "        save(output, v)"
   ]
  },
  {
   "cell_type": "code",
   "execution_count": 0,
   "metadata": {
    "colab": {},
    "colab_type": "code",
    "id": "5ZMi4RvWrXEn"
   },
   "outputs": [],
   "source": [
    "def fit_scaler(samples_npy: List[str], scaler_save_path: str):\n",
    "    scaler = MinMaxScaler()\n",
    "    for sample_idx, samples_path in enumerate(samples_npy):\n",
    "        print(\"Fitting scaler [{0} / {1}]\".format(sample_idx+1, len(samples_npy)))\n",
    "        samples = np.load(samples_path, allow_pickle=True)\n",
    "        shape = samples.shape\n",
    "        scaler.partial_fit(samples.reshape(shape[0], -1))\n",
    "    print(\"Saving scaler to %s\" % scaler_save_path)\n",
    "    with open(scaler_save_path, 'wb+') as f:\n",
    "        pickle.dump(scaler, f)\n",
    "        \n",
    "\n",
    "def scale_it(samples_npy: List[str], scaler_path: str):\n",
    "    with open(scaler_path, 'rb') as f:\n",
    "        scaler = pickle.load(f)\n",
    "    for sample_idx, samples_path in enumerate(samples_npy):\n",
    "        print(\"Scaling samples [{0} / {1}]\".format(sample_idx+1, len(samples_npy)))\n",
    "        samples = np.load(samples_path)\n",
    "        shape = samples.shape\n",
    "        samples = samples.reshape(shape[0], -1)\n",
    "        samples = scaler.transform(samples).reshape(shape)\n",
    "        temp_output_file = samples_path.split('.')[0] + \"_tmp.npy\"\n",
    "        save(temp_output_file, samples)\n",
    "        os.rename(temp_output_file, samples_path)"
   ]
  },
  {
   "cell_type": "code",
   "execution_count": 0,
   "metadata": {
    "colab": {},
    "colab_type": "code",
    "id": "mAS_8Rr7r09k"
   },
   "outputs": [],
   "source": [
    "#samplify(list(os.scandir(noisy_directory)), noisy_samples_directory, frame_length, sampling, npy_samples_count)\n",
    "#samplify(list(os.scandir(clean_directory)), clean_samples_directory, frame_length, sampling, npy_samples_count)\n",
    "#noise_npy_samples = [p.path for p in os.scandir(noisy_samples_directory)] \n",
    "#clean_npy_samples = [p.path for p in os.scandir(clean_samples_directory)]\n",
    "#fit_scaler(noise_npy_samples+clean_npy_samples, scaler_path)\n",
    "#scale_it(noise_npy_samples+clean_npy_samples, scaler_path)"
   ]
  },
  {
   "cell_type": "code",
   "execution_count": 0,
   "metadata": {
    "colab": {},
    "colab_type": "code",
    "id": "_4jULFCusRpg"
   },
   "outputs": [],
   "source": [
    "class Generator(tf.keras.utils.Sequence):\n",
    "    def __init__(self, x_npy_files: List[str], y_npy_files: List[str], batch_size: int, shuffle: bool = False):\n",
    "        self.batch_size = batch_size\n",
    "        self.shuffle = shuffle\n",
    "\n",
    "        self.sample_count = 0\n",
    "        for npy_file in x_npy_files:\n",
    "            shape = np.load(npy_file).shape\n",
    "            self.sample_count += shape[0]\n",
    "\n",
    "        self.x_npy_files = x_npy_files\n",
    "        self.y_npy_files = y_npy_files\n",
    "\n",
    "        self._on_each_epoch()\n",
    "\n",
    "    def __len__(self) -> int:\n",
    "        return int(np.floor(self.sample_count / self.batch_size))\n",
    "\n",
    "    def __getitem__(self, index):\n",
    "        if index == 0:\n",
    "            self._on_each_epoch()\n",
    "        x_batch = []\n",
    "        y_batch = []\n",
    "        for _ in range(0, self.batch_size):\n",
    "            x_batch.append(next(self.x_generator))\n",
    "            y_batch.append(next(self.y_generator))\n",
    "        if self.shuffle:\n",
    "            indexes = list(range(0, len(x_batch)))\n",
    "            random.shuffle(indexes)\n",
    "            for i, j in enumerate(indexes):\n",
    "                x_batch[i], x_batch[j] = x_batch[j], x_batch[i]\n",
    "                y_batch[i], y_batch[j] = y_batch[j], y_batch[i]\n",
    "        return np.array(x_batch), np.array(y_batch)\n",
    "\n",
    "    def _on_each_epoch(self):\n",
    "        self.x_samples_list = map(np.load, self.x_npy_files)\n",
    "        self.x_samples_list = map(lambda m: m.reshape(\n",
    "            m.shape[0], m.shape[1], 1), self.x_samples_list)\n",
    "\n",
    "        self.y_samples_list = map(np.load, self.y_npy_files)\n",
    "        self.y_samples_list = map(lambda m: m.reshape(\n",
    "            m.shape[0], m.shape[1], 1), self.y_samples_list)\n",
    "\n",
    "        def lazy_numpy_vstack(matrices):\n",
    "            for matrix in matrices:\n",
    "                yield from matrix\n",
    "\n",
    "        self.x_generator = lazy_numpy_vstack(self.x_samples_list)\n",
    "        self.y_generator = lazy_numpy_vstack(self.y_samples_list)"
   ]
  },
  {
   "cell_type": "code",
   "execution_count": 0,
   "metadata": {
    "colab": {},
    "colab_type": "code",
    "id": "Yux9DzJEu8pV"
   },
   "outputs": [],
   "source": [
    "#G = Generator(list(os.scandir(noisy_samples_directory)), list(os.scandir(clean_samples_directory)), 64)"
   ]
  },
  {
   "cell_type": "code",
   "execution_count": 3,
   "metadata": {
    "colab": {},
    "colab_type": "code",
    "id": "kY_83KKBvHxf"
   },
   "outputs": [],
   "source": [
    "def LeakyReLU(x, alpha=0.3):\n",
    "    return tf.maximum(alpha*x, x)"
   ]
  },
  {
   "cell_type": "code",
   "execution_count": 3,
   "metadata": {
    "colab": {},
    "colab_type": "code",
    "id": "nQ7sEEAfvJwU"
   },
   "outputs": [],
   "source": [
    "from tensorflow.keras import Model, Input\n",
    "from tensorflow.keras.layers import Conv1D, Reshape, UpSampling1D, concatenate, BatchNormalization, Activation, LeakyReLU\n",
    "def get_unet():\n",
    "    initial_filters=24\n",
    "    kernel_downsampling=15\n",
    "    kernel_upsampling=5\n",
    "    padding='same'\n",
    "    layer_factors = [1, 2, 4, 8, 16]\n",
    "\n",
    "    encoder_layers = []\n",
    "\n",
    "    inputs = Input((16384,1))\n",
    "    x = inputs\n",
    "    for i in layer_factors[:-1]:\n",
    "        x = Conv1D(initial_filters * i, kernel_downsampling, strides=1, padding=padding)(x)\n",
    "        x = BatchNormalization()(x)\n",
    "        x = LeakyReLU(alpha=0.2)(x)\n",
    "        encoder_layers.append(x)\n",
    "        x = x[:,::2,:]\n",
    "\n",
    "    x = tf.keras.layers.Conv1D(initial_filters * layer_factors[-1], kernel_downsampling, strides=1, padding=padding)(x)\n",
    "    x = BatchNormalization()(x)\n",
    "    x = LeakyReLU(alpha=0.2)(x)\n",
    "\n",
    "    for i, el in zip(reversed(layer_factors[:-1]), reversed(encoder_layers)):\n",
    "        x = UpSampling1D()(x)\n",
    "        x = concatenate([x, el])\n",
    "        x = tf.keras.layers.Conv1D(initial_filters * i, kernel_upsampling, strides=1, padding=padding)(x)\n",
    "        x = BatchNormalization()(x)\n",
    "        x = LeakyReLU(alpha=0.2)(x)\n",
    "\n",
    "    x = tf.keras.layers.Conv1D(1, kernel_upsampling, strides=1, activation=tf.tanh, padding=padding)(x)\n",
    "\n",
    "    outputs=x\n",
    "\n",
    "    model = Model(inputs, outputs=outputs, name=\"example\")\n",
    "    model.compile(optimizer=tf.keras.optimizers.Adam(learning_rate=0.0001, beta_1=0.9, beta_2=0.999), loss='mse')\n",
    "    model.summary()\n",
    "    return model"
   ]
  },
  {
   "cell_type": "code",
   "execution_count": 4,
   "metadata": {
    "colab": {
     "base_uri": "https://localhost:8080/",
     "height": 1000
    },
    "colab_type": "code",
    "executionInfo": {
     "elapsed": 10144,
     "status": "ok",
     "timestamp": 1590503110375,
     "user": {
      "displayName": "Michał Pawłowicz",
      "photoUrl": "https://lh3.googleusercontent.com/a-/AOh14GgPkH6a41e0KpMNM5QJiFitPGK504YR3M3KzwBX=s64",
      "userId": "13082843782255968248"
     },
     "user_tz": -120
    },
    "id": "drLAFopTvMiR",
    "outputId": "960a23b0-815d-4aa5-e306-c90898d5a8b3"
   },
   "outputs": [
    {
     "name": "stdout",
     "output_type": "stream",
     "text": [
      "WARNING:tensorflow:From /home/michal/Documents/Speech-enhancement/env/lib/python3.6/site-packages/tensorflow_core/python/ops/resource_variable_ops.py:1630: calling BaseResourceVariable.__init__ (from tensorflow.python.ops.resource_variable_ops) with constraint is deprecated and will be removed in a future version.\n",
      "Instructions for updating:\n",
      "If using Keras pass *_constraint arguments to layers.\n",
      "Model: \"example\"\n",
      "__________________________________________________________________________________________________\n",
      "Layer (type)                    Output Shape         Param #     Connected to                     \n",
      "==================================================================================================\n",
      "input_1 (InputLayer)            [(None, 16384, 1)]   0                                            \n",
      "__________________________________________________________________________________________________\n",
      "conv1d (Conv1D)                 (None, 16384, 24)    384         input_1[0][0]                    \n",
      "__________________________________________________________________________________________________\n",
      "batch_normalization (BatchNorma (None, 16384, 24)    96          conv1d[0][0]                     \n",
      "__________________________________________________________________________________________________\n",
      "leaky_re_lu (LeakyReLU)         (None, 16384, 24)    0           batch_normalization[0][0]        \n",
      "__________________________________________________________________________________________________\n",
      "tf_op_layer_strided_slice (Tens [(None, 8192, 24)]   0           leaky_re_lu[0][0]                \n",
      "__________________________________________________________________________________________________\n",
      "conv1d_1 (Conv1D)               (None, 8192, 48)     17328       tf_op_layer_strided_slice[0][0]  \n",
      "__________________________________________________________________________________________________\n",
      "batch_normalization_1 (BatchNor (None, 8192, 48)     192         conv1d_1[0][0]                   \n",
      "__________________________________________________________________________________________________\n",
      "leaky_re_lu_1 (LeakyReLU)       (None, 8192, 48)     0           batch_normalization_1[0][0]      \n",
      "__________________________________________________________________________________________________\n",
      "tf_op_layer_strided_slice_1 (Te [(None, 4096, 48)]   0           leaky_re_lu_1[0][0]              \n",
      "__________________________________________________________________________________________________\n",
      "conv1d_2 (Conv1D)               (None, 4096, 96)     69216       tf_op_layer_strided_slice_1[0][0]\n",
      "__________________________________________________________________________________________________\n",
      "batch_normalization_2 (BatchNor (None, 4096, 96)     384         conv1d_2[0][0]                   \n",
      "__________________________________________________________________________________________________\n",
      "leaky_re_lu_2 (LeakyReLU)       (None, 4096, 96)     0           batch_normalization_2[0][0]      \n",
      "__________________________________________________________________________________________________\n",
      "tf_op_layer_strided_slice_2 (Te [(None, 2048, 96)]   0           leaky_re_lu_2[0][0]              \n",
      "__________________________________________________________________________________________________\n",
      "conv1d_3 (Conv1D)               (None, 2048, 192)    276672      tf_op_layer_strided_slice_2[0][0]\n",
      "__________________________________________________________________________________________________\n",
      "batch_normalization_3 (BatchNor (None, 2048, 192)    768         conv1d_3[0][0]                   \n",
      "__________________________________________________________________________________________________\n",
      "leaky_re_lu_3 (LeakyReLU)       (None, 2048, 192)    0           batch_normalization_3[0][0]      \n",
      "__________________________________________________________________________________________________\n",
      "tf_op_layer_strided_slice_3 (Te [(None, 1024, 192)]  0           leaky_re_lu_3[0][0]              \n",
      "__________________________________________________________________________________________________\n",
      "conv1d_4 (Conv1D)               (None, 1024, 384)    1106304     tf_op_layer_strided_slice_3[0][0]\n",
      "__________________________________________________________________________________________________\n",
      "batch_normalization_4 (BatchNor (None, 1024, 384)    1536        conv1d_4[0][0]                   \n",
      "__________________________________________________________________________________________________\n",
      "leaky_re_lu_4 (LeakyReLU)       (None, 1024, 384)    0           batch_normalization_4[0][0]      \n",
      "__________________________________________________________________________________________________\n",
      "up_sampling1d (UpSampling1D)    (None, 2048, 384)    0           leaky_re_lu_4[0][0]              \n",
      "__________________________________________________________________________________________________\n",
      "concatenate (Concatenate)       (None, 2048, 576)    0           up_sampling1d[0][0]              \n",
      "                                                                 leaky_re_lu_3[0][0]              \n",
      "__________________________________________________________________________________________________\n",
      "conv1d_5 (Conv1D)               (None, 2048, 192)    553152      concatenate[0][0]                \n",
      "__________________________________________________________________________________________________\n",
      "batch_normalization_5 (BatchNor (None, 2048, 192)    768         conv1d_5[0][0]                   \n",
      "__________________________________________________________________________________________________\n",
      "leaky_re_lu_5 (LeakyReLU)       (None, 2048, 192)    0           batch_normalization_5[0][0]      \n",
      "__________________________________________________________________________________________________\n",
      "up_sampling1d_1 (UpSampling1D)  (None, 4096, 192)    0           leaky_re_lu_5[0][0]              \n",
      "__________________________________________________________________________________________________\n",
      "concatenate_1 (Concatenate)     (None, 4096, 288)    0           up_sampling1d_1[0][0]            \n",
      "                                                                 leaky_re_lu_2[0][0]              \n",
      "__________________________________________________________________________________________________\n",
      "conv1d_6 (Conv1D)               (None, 4096, 96)     138336      concatenate_1[0][0]              \n",
      "__________________________________________________________________________________________________\n",
      "batch_normalization_6 (BatchNor (None, 4096, 96)     384         conv1d_6[0][0]                   \n",
      "__________________________________________________________________________________________________\n",
      "leaky_re_lu_6 (LeakyReLU)       (None, 4096, 96)     0           batch_normalization_6[0][0]      \n",
      "__________________________________________________________________________________________________\n",
      "up_sampling1d_2 (UpSampling1D)  (None, 8192, 96)     0           leaky_re_lu_6[0][0]              \n",
      "__________________________________________________________________________________________________\n",
      "concatenate_2 (Concatenate)     (None, 8192, 144)    0           up_sampling1d_2[0][0]            \n",
      "                                                                 leaky_re_lu_1[0][0]              \n",
      "__________________________________________________________________________________________________\n",
      "conv1d_7 (Conv1D)               (None, 8192, 48)     34608       concatenate_2[0][0]              \n",
      "__________________________________________________________________________________________________\n",
      "batch_normalization_7 (BatchNor (None, 8192, 48)     192         conv1d_7[0][0]                   \n",
      "__________________________________________________________________________________________________\n",
      "leaky_re_lu_7 (LeakyReLU)       (None, 8192, 48)     0           batch_normalization_7[0][0]      \n",
      "__________________________________________________________________________________________________\n",
      "up_sampling1d_3 (UpSampling1D)  (None, 16384, 48)    0           leaky_re_lu_7[0][0]              \n",
      "__________________________________________________________________________________________________\n",
      "concatenate_3 (Concatenate)     (None, 16384, 72)    0           up_sampling1d_3[0][0]            \n",
      "                                                                 leaky_re_lu[0][0]                \n",
      "__________________________________________________________________________________________________\n",
      "conv1d_8 (Conv1D)               (None, 16384, 24)    8664        concatenate_3[0][0]              \n",
      "__________________________________________________________________________________________________\n",
      "batch_normalization_8 (BatchNor (None, 16384, 24)    96          conv1d_8[0][0]                   \n",
      "__________________________________________________________________________________________________\n",
      "leaky_re_lu_8 (LeakyReLU)       (None, 16384, 24)    0           batch_normalization_8[0][0]      \n",
      "__________________________________________________________________________________________________\n",
      "conv1d_9 (Conv1D)               (None, 16384, 1)     121         leaky_re_lu_8[0][0]              \n",
      "==================================================================================================\n",
      "Total params: 2,209,201\n",
      "Trainable params: 2,206,993\n",
      "Non-trainable params: 2,208\n",
      "__________________________________________________________________________________________________\n",
      "Model: \"example\"\n",
      "__________________________________________________________________________________________________\n",
      "Layer (type)                    Output Shape         Param #     Connected to                     \n",
      "==================================================================================================\n",
      "input_1 (InputLayer)            [(None, 16384, 1)]   0                                            \n",
      "__________________________________________________________________________________________________\n",
      "conv1d (Conv1D)                 (None, 16384, 24)    384         input_1[0][0]                    \n",
      "__________________________________________________________________________________________________\n",
      "batch_normalization (BatchNorma (None, 16384, 24)    96          conv1d[0][0]                     \n",
      "__________________________________________________________________________________________________\n",
      "leaky_re_lu (LeakyReLU)         (None, 16384, 24)    0           batch_normalization[0][0]        \n",
      "__________________________________________________________________________________________________\n",
      "tf_op_layer_strided_slice (Tens [(None, 8192, 24)]   0           leaky_re_lu[0][0]                \n",
      "__________________________________________________________________________________________________\n",
      "conv1d_1 (Conv1D)               (None, 8192, 48)     17328       tf_op_layer_strided_slice[0][0]  \n",
      "__________________________________________________________________________________________________\n",
      "batch_normalization_1 (BatchNor (None, 8192, 48)     192         conv1d_1[0][0]                   \n",
      "__________________________________________________________________________________________________\n",
      "leaky_re_lu_1 (LeakyReLU)       (None, 8192, 48)     0           batch_normalization_1[0][0]      \n",
      "__________________________________________________________________________________________________\n",
      "tf_op_layer_strided_slice_1 (Te [(None, 4096, 48)]   0           leaky_re_lu_1[0][0]              \n",
      "__________________________________________________________________________________________________\n",
      "conv1d_2 (Conv1D)               (None, 4096, 96)     69216       tf_op_layer_strided_slice_1[0][0]\n",
      "__________________________________________________________________________________________________\n",
      "batch_normalization_2 (BatchNor (None, 4096, 96)     384         conv1d_2[0][0]                   \n",
      "__________________________________________________________________________________________________\n",
      "leaky_re_lu_2 (LeakyReLU)       (None, 4096, 96)     0           batch_normalization_2[0][0]      \n",
      "__________________________________________________________________________________________________\n",
      "tf_op_layer_strided_slice_2 (Te [(None, 2048, 96)]   0           leaky_re_lu_2[0][0]              \n",
      "__________________________________________________________________________________________________\n",
      "conv1d_3 (Conv1D)               (None, 2048, 192)    276672      tf_op_layer_strided_slice_2[0][0]\n",
      "__________________________________________________________________________________________________\n",
      "batch_normalization_3 (BatchNor (None, 2048, 192)    768         conv1d_3[0][0]                   \n",
      "__________________________________________________________________________________________________\n",
      "leaky_re_lu_3 (LeakyReLU)       (None, 2048, 192)    0           batch_normalization_3[0][0]      \n",
      "__________________________________________________________________________________________________\n",
      "tf_op_layer_strided_slice_3 (Te [(None, 1024, 192)]  0           leaky_re_lu_3[0][0]              \n",
      "__________________________________________________________________________________________________\n",
      "conv1d_4 (Conv1D)               (None, 1024, 384)    1106304     tf_op_layer_strided_slice_3[0][0]\n",
      "__________________________________________________________________________________________________\n",
      "batch_normalization_4 (BatchNor (None, 1024, 384)    1536        conv1d_4[0][0]                   \n",
      "__________________________________________________________________________________________________\n",
      "leaky_re_lu_4 (LeakyReLU)       (None, 1024, 384)    0           batch_normalization_4[0][0]      \n",
      "__________________________________________________________________________________________________\n",
      "up_sampling1d (UpSampling1D)    (None, 2048, 384)    0           leaky_re_lu_4[0][0]              \n",
      "__________________________________________________________________________________________________\n",
      "concatenate (Concatenate)       (None, 2048, 576)    0           up_sampling1d[0][0]              \n",
      "                                                                 leaky_re_lu_3[0][0]              \n",
      "__________________________________________________________________________________________________\n",
      "conv1d_5 (Conv1D)               (None, 2048, 192)    553152      concatenate[0][0]                \n",
      "__________________________________________________________________________________________________\n",
      "batch_normalization_5 (BatchNor (None, 2048, 192)    768         conv1d_5[0][0]                   \n",
      "__________________________________________________________________________________________________\n",
      "leaky_re_lu_5 (LeakyReLU)       (None, 2048, 192)    0           batch_normalization_5[0][0]      \n",
      "__________________________________________________________________________________________________\n",
      "up_sampling1d_1 (UpSampling1D)  (None, 4096, 192)    0           leaky_re_lu_5[0][0]              \n",
      "__________________________________________________________________________________________________\n",
      "concatenate_1 (Concatenate)     (None, 4096, 288)    0           up_sampling1d_1[0][0]            \n",
      "                                                                 leaky_re_lu_2[0][0]              \n",
      "__________________________________________________________________________________________________\n",
      "conv1d_6 (Conv1D)               (None, 4096, 96)     138336      concatenate_1[0][0]              \n",
      "__________________________________________________________________________________________________\n",
      "batch_normalization_6 (BatchNor (None, 4096, 96)     384         conv1d_6[0][0]                   \n",
      "__________________________________________________________________________________________________\n",
      "leaky_re_lu_6 (LeakyReLU)       (None, 4096, 96)     0           batch_normalization_6[0][0]      \n",
      "__________________________________________________________________________________________________\n",
      "up_sampling1d_2 (UpSampling1D)  (None, 8192, 96)     0           leaky_re_lu_6[0][0]              \n",
      "__________________________________________________________________________________________________\n",
      "concatenate_2 (Concatenate)     (None, 8192, 144)    0           up_sampling1d_2[0][0]            \n",
      "                                                                 leaky_re_lu_1[0][0]              \n",
      "__________________________________________________________________________________________________\n",
      "conv1d_7 (Conv1D)               (None, 8192, 48)     34608       concatenate_2[0][0]              \n",
      "__________________________________________________________________________________________________\n",
      "batch_normalization_7 (BatchNor (None, 8192, 48)     192         conv1d_7[0][0]                   \n",
      "__________________________________________________________________________________________________\n",
      "leaky_re_lu_7 (LeakyReLU)       (None, 8192, 48)     0           batch_normalization_7[0][0]      \n",
      "__________________________________________________________________________________________________\n",
      "up_sampling1d_3 (UpSampling1D)  (None, 16384, 48)    0           leaky_re_lu_7[0][0]              \n",
      "__________________________________________________________________________________________________\n",
      "concatenate_3 (Concatenate)     (None, 16384, 72)    0           up_sampling1d_3[0][0]            \n",
      "                                                                 leaky_re_lu[0][0]                \n",
      "__________________________________________________________________________________________________\n",
      "conv1d_8 (Conv1D)               (None, 16384, 24)    8664        concatenate_3[0][0]              \n",
      "__________________________________________________________________________________________________\n",
      "batch_normalization_8 (BatchNor (None, 16384, 24)    96          conv1d_8[0][0]                   \n",
      "__________________________________________________________________________________________________\n",
      "leaky_re_lu_8 (LeakyReLU)       (None, 16384, 24)    0           batch_normalization_8[0][0]      \n",
      "__________________________________________________________________________________________________\n",
      "conv1d_9 (Conv1D)               (None, 16384, 1)     121         leaky_re_lu_8[0][0]              \n",
      "==================================================================================================\n",
      "Total params: 2,209,201\n",
      "Trainable params: 2,206,993\n",
      "Non-trainable params: 2,208\n",
      "__________________________________________________________________________________________________\n"
     ]
    }
   ],
   "source": [
    "config = tf.compat.v1.ConfigProto()\n",
    "config.gpu_options.allow_growth = True\n",
    "session = tf.compat.v1.InteractiveSession(config=config)\n",
    "\n",
    "model = get_unet()\n",
    "#model = tf.keras.models.load_model(os.path.join(WORKDIR, \"checkpoints\", \"model-cp-epoch_0201.h5\"), \n",
    "#                                   custom_objects={\"LeakyReLU\" : LeakyReLU})\n",
    "model.summary()"
   ]
  },
  {
   "cell_type": "code",
   "execution_count": 5,
   "metadata": {
    "colab": {
     "base_uri": "https://localhost:8080/",
     "height": 34
    },
    "colab_type": "code",
    "executionInfo": {
     "elapsed": 47722,
     "status": "ok",
     "timestamp": 1590503152728,
     "user": {
      "displayName": "Michał Pawłowicz",
      "photoUrl": "https://lh3.googleusercontent.com/a-/AOh14GgPkH6a41e0KpMNM5QJiFitPGK504YR3M3KzwBX=s64",
      "userId": "13082843782255968248"
     },
     "user_tz": -120
    },
    "id": "ZwUdZ24fvOC0",
    "outputId": "c0f90f46-2600-4e5a-92f8-1c084d59e009"
   },
   "outputs": [
    {
     "data": {
      "text/plain": [
       "3"
      ]
     },
     "execution_count": 5,
     "metadata": {},
     "output_type": "execute_result"
    }
   ],
   "source": [
    "X = np.load(os.path.join(noisy_samples_directory, \"0.npy\"))\n",
    "X = X.reshape(X.shape[0],X.shape[1],1)\n",
    "gc.collect()"
   ]
  },
  {
   "cell_type": "code",
   "execution_count": 6,
   "metadata": {
    "colab": {
     "base_uri": "https://localhost:8080/",
     "height": 34
    },
    "colab_type": "code",
    "executionInfo": {
     "elapsed": 61295,
     "status": "ok",
     "timestamp": 1590503214039,
     "user": {
      "displayName": "Michał Pawłowicz",
      "photoUrl": "https://lh3.googleusercontent.com/a-/AOh14GgPkH6a41e0KpMNM5QJiFitPGK504YR3M3KzwBX=s64",
      "userId": "13082843782255968248"
     },
     "user_tz": -120
    },
    "id": "VMkziSYKSDVq",
    "outputId": "adcd7e9b-1f32-461e-8e79-f4088377e252"
   },
   "outputs": [
    {
     "data": {
      "text/plain": [
       "3"
      ]
     },
     "execution_count": 6,
     "metadata": {},
     "output_type": "execute_result"
    }
   ],
   "source": [
    "Y = np.load(os.path.join(clean_samples_directory, \"0.npy\"))\n",
    "Y = Y.reshape(Y.shape[0],Y.shape[1],1)\n",
    "gc.collect()"
   ]
  },
  {
   "cell_type": "code",
   "execution_count": 7,
   "metadata": {
    "colab": {},
    "colab_type": "code",
    "id": "BiwaDvavSKl1"
   },
   "outputs": [],
   "source": [
    "indexes = list(range(0, X.shape[0]))\n",
    "random.shuffle(indexes)\n",
    "for i, j in enumerate(indexes):\n",
    "  X[i], X[j] = X[j], X[i]\n",
    "  Y[i], Y[j] = Y[j], Y[i]"
   ]
  },
  {
   "cell_type": "code",
   "execution_count": 8,
   "metadata": {
    "colab": {
     "base_uri": "https://localhost:8080/",
     "height": 69
    },
    "colab_type": "code",
    "executionInfo": {
     "elapsed": 14798,
     "status": "error",
     "timestamp": 1590348420242,
     "user": {
      "displayName": "Michał Pawłowicz",
      "photoUrl": "https://lh3.googleusercontent.com/a-/AOh14GgPkH6a41e0KpMNM5QJiFitPGK504YR3M3KzwBX=s64",
      "userId": "13082843782255968248"
     },
     "user_tz": -120
    },
    "id": "kx_GrRMtvPjt",
    "outputId": "19f23357-c546-4be7-abf9-29e8a1acaf4d"
   },
   "outputs": [
    {
     "name": "stdout",
     "output_type": "stream",
     "text": [
      "WARNING:tensorflow:`period` argument is deprecated. Please use `save_freq` to specify the frequency in number of samples seen.\n",
      "Train on 51403 samples\n",
      "Epoch 1/1000\n",
      "51403/51403 [==============================] - 520s 10ms/sample - loss: 0.0086\n",
      "Epoch 2/1000\n",
      "51403/51403 [==============================] - 513s 10ms/sample - loss: 4.8585e-04\n",
      "Epoch 3/1000\n",
      "51403/51403 [==============================] - 509s 10ms/sample - loss: 3.3709e-04\n",
      "Epoch 4/1000\n",
      "51403/51403 [==============================] - 508s 10ms/sample - loss: 2.6591e-04\n",
      "Epoch 5/1000\n",
      "51403/51403 [==============================] - 509s 10ms/sample - loss: 2.2080e-04\n",
      "Epoch 6/1000\n",
      "51403/51403 [==============================] - 509s 10ms/sample - loss: 1.9368e-04\n",
      "Epoch 7/1000\n",
      "51403/51403 [==============================] - 508s 10ms/sample - loss: 1.7330e-04\n",
      "Epoch 8/1000\n",
      "51403/51403 [==============================] - 508s 10ms/sample - loss: 1.5920e-04\n",
      "Epoch 9/1000\n",
      " 3632/51403 [=>............................] - ETA: 7:56 - loss: 1.5731e-04"
     ]
    },
    {
     "ename": "KeyboardInterrupt",
     "evalue": "",
     "output_type": "error",
     "traceback": [
      "\u001b[0;31m---------------------------------------------------------------------------\u001b[0m",
      "\u001b[0;31mKeyboardInterrupt\u001b[0m                         Traceback (most recent call last)",
      "\u001b[0;32m<ipython-input-8-6fda0cacbb23>\u001b[0m in \u001b[0;36m<module>\u001b[0;34m\u001b[0m\n\u001b[1;32m     10\u001b[0m \u001b[0;31m#callbacks.append(tensorboard_callback)\u001b[0m\u001b[0;34m\u001b[0m\u001b[0;34m\u001b[0m\u001b[0;34m\u001b[0m\u001b[0m\n\u001b[1;32m     11\u001b[0m \u001b[0;34m\u001b[0m\u001b[0m\n\u001b[0;32m---> 12\u001b[0;31m \u001b[0mmodel\u001b[0m\u001b[0;34m.\u001b[0m\u001b[0mfit\u001b[0m\u001b[0;34m(\u001b[0m\u001b[0mx\u001b[0m\u001b[0;34m=\u001b[0m\u001b[0mX\u001b[0m\u001b[0;34m,\u001b[0m \u001b[0my\u001b[0m\u001b[0;34m=\u001b[0m\u001b[0mY\u001b[0m\u001b[0;34m,\u001b[0m \u001b[0mbatch_size\u001b[0m\u001b[0;34m=\u001b[0m\u001b[0;36m16\u001b[0m\u001b[0;34m,\u001b[0m \u001b[0mepochs\u001b[0m\u001b[0;34m=\u001b[0m\u001b[0;36m1000\u001b[0m\u001b[0;34m,\u001b[0m \u001b[0mverbose\u001b[0m\u001b[0;34m=\u001b[0m\u001b[0;36m1\u001b[0m\u001b[0;34m,\u001b[0m \u001b[0mcallbacks\u001b[0m\u001b[0;34m=\u001b[0m\u001b[0mcallbacks\u001b[0m\u001b[0;34m,\u001b[0m \u001b[0mshuffle\u001b[0m\u001b[0;34m=\u001b[0m\u001b[0;32mTrue\u001b[0m\u001b[0;34m,\u001b[0m \u001b[0minitial_epoch\u001b[0m\u001b[0;34m=\u001b[0m\u001b[0mINITIAL_EPOCH\u001b[0m\u001b[0;34m)\u001b[0m\u001b[0;34m\u001b[0m\u001b[0;34m\u001b[0m\u001b[0m\n\u001b[0m",
      "\u001b[0;32m~/Documents/Speech-enhancement/env/lib/python3.6/site-packages/tensorflow_core/python/keras/engine/training.py\u001b[0m in \u001b[0;36mfit\u001b[0;34m(self, x, y, batch_size, epochs, verbose, callbacks, validation_split, validation_data, shuffle, class_weight, sample_weight, initial_epoch, steps_per_epoch, validation_steps, validation_freq, max_queue_size, workers, use_multiprocessing, **kwargs)\u001b[0m\n\u001b[1;32m    725\u001b[0m         \u001b[0mmax_queue_size\u001b[0m\u001b[0;34m=\u001b[0m\u001b[0mmax_queue_size\u001b[0m\u001b[0;34m,\u001b[0m\u001b[0;34m\u001b[0m\u001b[0;34m\u001b[0m\u001b[0m\n\u001b[1;32m    726\u001b[0m         \u001b[0mworkers\u001b[0m\u001b[0;34m=\u001b[0m\u001b[0mworkers\u001b[0m\u001b[0;34m,\u001b[0m\u001b[0;34m\u001b[0m\u001b[0;34m\u001b[0m\u001b[0m\n\u001b[0;32m--> 727\u001b[0;31m         use_multiprocessing=use_multiprocessing)\n\u001b[0m\u001b[1;32m    728\u001b[0m \u001b[0;34m\u001b[0m\u001b[0m\n\u001b[1;32m    729\u001b[0m   def evaluate(self,\n",
      "\u001b[0;32m~/Documents/Speech-enhancement/env/lib/python3.6/site-packages/tensorflow_core/python/keras/engine/training_arrays.py\u001b[0m in \u001b[0;36mfit\u001b[0;34m(self, model, x, y, batch_size, epochs, verbose, callbacks, validation_split, validation_data, shuffle, class_weight, sample_weight, initial_epoch, steps_per_epoch, validation_steps, validation_freq, **kwargs)\u001b[0m\n\u001b[1;32m    673\u001b[0m         \u001b[0mvalidation_steps\u001b[0m\u001b[0;34m=\u001b[0m\u001b[0mvalidation_steps\u001b[0m\u001b[0;34m,\u001b[0m\u001b[0;34m\u001b[0m\u001b[0;34m\u001b[0m\u001b[0m\n\u001b[1;32m    674\u001b[0m         \u001b[0mvalidation_freq\u001b[0m\u001b[0;34m=\u001b[0m\u001b[0mvalidation_freq\u001b[0m\u001b[0;34m,\u001b[0m\u001b[0;34m\u001b[0m\u001b[0;34m\u001b[0m\u001b[0m\n\u001b[0;32m--> 675\u001b[0;31m         steps_name='steps_per_epoch')\n\u001b[0m\u001b[1;32m    676\u001b[0m \u001b[0;34m\u001b[0m\u001b[0m\n\u001b[1;32m    677\u001b[0m   def evaluate(self,\n",
      "\u001b[0;32m~/Documents/Speech-enhancement/env/lib/python3.6/site-packages/tensorflow_core/python/keras/engine/training_arrays.py\u001b[0m in \u001b[0;36mmodel_iteration\u001b[0;34m(model, inputs, targets, sample_weights, batch_size, epochs, verbose, callbacks, val_inputs, val_targets, val_sample_weights, shuffle, initial_epoch, steps_per_epoch, validation_steps, validation_freq, mode, validation_in_fit, prepared_feed_values_from_dataset, steps_name, **kwargs)\u001b[0m\n\u001b[1;32m    392\u001b[0m \u001b[0;34m\u001b[0m\u001b[0m\n\u001b[1;32m    393\u001b[0m         \u001b[0;31m# Get outputs.\u001b[0m\u001b[0;34m\u001b[0m\u001b[0;34m\u001b[0m\u001b[0;34m\u001b[0m\u001b[0m\n\u001b[0;32m--> 394\u001b[0;31m         \u001b[0mbatch_outs\u001b[0m \u001b[0;34m=\u001b[0m \u001b[0mf\u001b[0m\u001b[0;34m(\u001b[0m\u001b[0mins_batch\u001b[0m\u001b[0;34m)\u001b[0m\u001b[0;34m\u001b[0m\u001b[0;34m\u001b[0m\u001b[0m\n\u001b[0m\u001b[1;32m    395\u001b[0m         \u001b[0;32mif\u001b[0m \u001b[0;32mnot\u001b[0m \u001b[0misinstance\u001b[0m\u001b[0;34m(\u001b[0m\u001b[0mbatch_outs\u001b[0m\u001b[0;34m,\u001b[0m \u001b[0mlist\u001b[0m\u001b[0;34m)\u001b[0m\u001b[0;34m:\u001b[0m\u001b[0;34m\u001b[0m\u001b[0;34m\u001b[0m\u001b[0m\n\u001b[1;32m    396\u001b[0m           \u001b[0mbatch_outs\u001b[0m \u001b[0;34m=\u001b[0m \u001b[0;34m[\u001b[0m\u001b[0mbatch_outs\u001b[0m\u001b[0;34m]\u001b[0m\u001b[0;34m\u001b[0m\u001b[0;34m\u001b[0m\u001b[0m\n",
      "\u001b[0;32m~/Documents/Speech-enhancement/env/lib/python3.6/site-packages/tensorflow_core/python/keras/backend.py\u001b[0m in \u001b[0;36m__call__\u001b[0;34m(self, inputs)\u001b[0m\n\u001b[1;32m   3474\u001b[0m \u001b[0;34m\u001b[0m\u001b[0m\n\u001b[1;32m   3475\u001b[0m     fetched = self._callable_fn(*array_vals,\n\u001b[0;32m-> 3476\u001b[0;31m                                 run_metadata=self.run_metadata)\n\u001b[0m\u001b[1;32m   3477\u001b[0m     \u001b[0mself\u001b[0m\u001b[0;34m.\u001b[0m\u001b[0m_call_fetch_callbacks\u001b[0m\u001b[0;34m(\u001b[0m\u001b[0mfetched\u001b[0m\u001b[0;34m[\u001b[0m\u001b[0;34m-\u001b[0m\u001b[0mlen\u001b[0m\u001b[0;34m(\u001b[0m\u001b[0mself\u001b[0m\u001b[0;34m.\u001b[0m\u001b[0m_fetches\u001b[0m\u001b[0;34m)\u001b[0m\u001b[0;34m:\u001b[0m\u001b[0;34m]\u001b[0m\u001b[0;34m)\u001b[0m\u001b[0;34m\u001b[0m\u001b[0;34m\u001b[0m\u001b[0m\n\u001b[1;32m   3478\u001b[0m     output_structure = nest.pack_sequence_as(\n",
      "\u001b[0;32m~/Documents/Speech-enhancement/env/lib/python3.6/site-packages/tensorflow_core/python/client/session.py\u001b[0m in \u001b[0;36m__call__\u001b[0;34m(self, *args, **kwargs)\u001b[0m\n\u001b[1;32m   1470\u001b[0m         ret = tf_session.TF_SessionRunCallable(self._session._session,\n\u001b[1;32m   1471\u001b[0m                                                \u001b[0mself\u001b[0m\u001b[0;34m.\u001b[0m\u001b[0m_handle\u001b[0m\u001b[0;34m,\u001b[0m \u001b[0margs\u001b[0m\u001b[0;34m,\u001b[0m\u001b[0;34m\u001b[0m\u001b[0;34m\u001b[0m\u001b[0m\n\u001b[0;32m-> 1472\u001b[0;31m                                                run_metadata_ptr)\n\u001b[0m\u001b[1;32m   1473\u001b[0m         \u001b[0;32mif\u001b[0m \u001b[0mrun_metadata\u001b[0m\u001b[0;34m:\u001b[0m\u001b[0;34m\u001b[0m\u001b[0;34m\u001b[0m\u001b[0m\n\u001b[1;32m   1474\u001b[0m           \u001b[0mproto_data\u001b[0m \u001b[0;34m=\u001b[0m \u001b[0mtf_session\u001b[0m\u001b[0;34m.\u001b[0m\u001b[0mTF_GetBuffer\u001b[0m\u001b[0;34m(\u001b[0m\u001b[0mrun_metadata_ptr\u001b[0m\u001b[0;34m)\u001b[0m\u001b[0;34m\u001b[0m\u001b[0;34m\u001b[0m\u001b[0m\n",
      "\u001b[0;31mKeyboardInterrupt\u001b[0m: "
     ]
    }
   ],
   "source": [
    "callbacks = []\n",
    "\n",
    "name = \"model-cp-epoch_{epoch:04d}.h5\"\n",
    "path = os.path.join(checkpoints_path, name)\n",
    "checkpoint = tf.keras.callbacks.ModelCheckpoint(path, verbose=1, monitor='val_loss', save_best_only=False, mode='auto', period=1)\n",
    "#callbacks.append(checkpoint)\n",
    "\n",
    "log_dir = logs_dir + \"/model-{0}\".format(int(time.time()))\n",
    "tensorboard_callback = tf.keras.callbacks.TensorBoard(log_dir=log_dir, update_freq='epoch', write_graph=True, profile_batch=0)\n",
    "#callbacks.append(tensorboard_callback)\n",
    "        \n",
    "model.fit(x=X, y=Y, batch_size=16, epochs=1000, verbose=1, callbacks=callbacks, shuffle=True, initial_epoch=INITIAL_EPOCH)"
   ]
  },
  {
   "cell_type": "markdown",
   "metadata": {},
   "source": [
    "# "
   ]
  }
 ],
 "metadata": {
  "accelerator": "GPU",
  "colab": {
   "collapsed_sections": [],
   "name": "thesis.ipynb",
   "provenance": []
  },
  "kernelspec": {
   "display_name": "venv3",
   "language": "python",
   "name": "venv3"
  },
  "language_info": {
   "codemirror_mode": {
    "name": "ipython",
    "version": 3
   },
   "file_extension": ".py",
   "mimetype": "text/x-python",
   "name": "python",
   "nbconvert_exporter": "python",
   "pygments_lexer": "ipython3",
   "version": "3.6.9"
  }
 },
 "nbformat": 4,
 "nbformat_minor": 1
}
